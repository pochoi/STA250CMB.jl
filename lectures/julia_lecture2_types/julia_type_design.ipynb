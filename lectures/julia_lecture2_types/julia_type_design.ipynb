{
 "cells": [
  {
   "cell_type": "markdown",
   "metadata": {},
   "source": [
    "# Overall Design philosophy: type tree and multiple dispatch"
   ]
  },
  {
   "cell_type": "markdown",
   "metadata": {},
   "source": [
    "In this IJulia notebook we will discuss the overall design of the Julia language. Before we start, however, I should tell you how I made this notebook so you can use them for your homworks and projects (if you want)."
   ]
  },
  {
   "cell_type": "markdown",
   "metadata": {},
   "source": [
    "## Quick Julia Tip\n",
    "To use IJulia notebooks you will first need the Jupyter notebooks working on python (they come pre-installed with Anaconda). Now you can download the IJulia package at the Julia command line with:\n",
    "\n",
    "```julia\n",
    "julia> Pkg.add(\"IJulia\")\n",
    "```\n",
    "Now load `IJulia` into the namespace with.\n",
    "```julia\n",
    "julia> using IJulia\n",
    "```\n",
    "To start a notebook (which will open your default web browser) you can do\n",
    "\n",
    "```julia\n",
    "julia> notebook()\n",
    "```\n",
    "or \n",
    "```julia\n",
    "julia> notebook(detached=true)\n",
    "```\n",
    "which will run the notebook in the background and give back the Julia prompt.\n",
    "\n",
    "Another useful package is `NBInclude` which allows you to run a whole Julia notebook, at the command line, and import all the defined variables into the command line namespace."
   ]
  },
  {
   "cell_type": "markdown",
   "metadata": {},
   "source": [
    "## Types in Julia"
   ]
  },
  {
   "cell_type": "markdown",
   "metadata": {},
   "source": [
    "Every variable in Julia has a concrete type"
   ]
  },
  {
   "cell_type": "code",
   "execution_count": 1,
   "metadata": {
    "collapsed": false
   },
   "outputs": [
    {
     "data": {
      "text/plain": [
       "Int64"
      ]
     },
     "execution_count": 1,
     "metadata": {},
     "output_type": "execute_result"
    }
   ],
   "source": [
    "typeof(4)"
   ]
  },
  {
   "cell_type": "code",
   "execution_count": 2,
   "metadata": {
    "collapsed": false
   },
   "outputs": [
    {
     "data": {
      "text/plain": [
       "Float64"
      ]
     },
     "execution_count": 2,
     "metadata": {},
     "output_type": "execute_result"
    }
   ],
   "source": [
    "typeof(4.0)"
   ]
  },
  {
   "cell_type": "code",
   "execution_count": 3,
   "metadata": {
    "collapsed": false
   },
   "outputs": [
    {
     "data": {
      "text/plain": [
       "Rational{Int64}"
      ]
     },
     "execution_count": 3,
     "metadata": {},
     "output_type": "execute_result"
    }
   ],
   "source": [
    "typeof(4//7)"
   ]
  },
  {
   "cell_type": "code",
   "execution_count": 4,
   "metadata": {
    "collapsed": false
   },
   "outputs": [
    {
     "data": {
      "text/plain": [
       "Array{Float64,2}"
      ]
     },
     "execution_count": 4,
     "metadata": {},
     "output_type": "execute_result"
    }
   ],
   "source": [
    "typeof(rand(101,10))"
   ]
  },
  {
   "cell_type": "code",
   "execution_count": 5,
   "metadata": {
    "collapsed": false
   },
   "outputs": [
    {
     "data": {
      "text/plain": [
       "Array{Int64,1}"
      ]
     },
     "execution_count": 5,
     "metadata": {},
     "output_type": "execute_result"
    }
   ],
   "source": [
    "typeof([1, 2, 3]) # 1-d array of ints"
   ]
  },
  {
   "cell_type": "markdown",
   "metadata": {},
   "source": [
    "Function also have a type"
   ]
  },
  {
   "cell_type": "code",
   "execution_count": 6,
   "metadata": {
    "collapsed": false
   },
   "outputs": [
    {
     "data": {
      "text/plain": [
       "Function"
      ]
     },
     "execution_count": 6,
     "metadata": {},
     "output_type": "execute_result"
    }
   ],
   "source": [
    "typeof(rand)"
   ]
  },
  {
   "cell_type": "markdown",
   "metadata": {},
   "source": [
    "Types have a type"
   ]
  },
  {
   "cell_type": "code",
   "execution_count": 7,
   "metadata": {
    "collapsed": false
   },
   "outputs": [
    {
     "data": {
      "text/plain": [
       "DataType"
      ]
     },
     "execution_count": 7,
     "metadata": {},
     "output_type": "execute_result"
    }
   ],
   "source": [
    "typeof(Float64) # convention, types start with capital letter"
   ]
  },
  {
   "cell_type": "code",
   "execution_count": 8,
   "metadata": {
    "collapsed": false
   },
   "outputs": [
    {
     "data": {
      "text/plain": [
       "DataType"
      ]
     },
     "execution_count": 8,
     "metadata": {},
     "output_type": "execute_result"
    }
   ],
   "source": [
    "typeof(typeof(Float64))"
   ]
  },
  {
   "cell_type": "markdown",
   "metadata": {},
   "source": [
    "### Typing is not static"
   ]
  },
  {
   "cell_type": "code",
   "execution_count": 9,
   "metadata": {
    "collapsed": false
   },
   "outputs": [
    {
     "data": {
      "text/plain": [
       "4"
      ]
     },
     "execution_count": 9,
     "metadata": {},
     "output_type": "execute_result"
    }
   ],
   "source": [
    "a = 4"
   ]
  },
  {
   "cell_type": "code",
   "execution_count": 10,
   "metadata": {
    "collapsed": false
   },
   "outputs": [
    {
     "data": {
      "text/plain": [
       "Int64"
      ]
     },
     "execution_count": 10,
     "metadata": {},
     "output_type": "execute_result"
    }
   ],
   "source": [
    "typeof(a)"
   ]
  },
  {
   "cell_type": "code",
   "execution_count": 11,
   "metadata": {
    "collapsed": false
   },
   "outputs": [
    {
     "data": {
      "text/plain": [
       "1.0"
      ]
     },
     "execution_count": 11,
     "metadata": {},
     "output_type": "execute_result"
    }
   ],
   "source": [
    "a = 1.0"
   ]
  },
  {
   "cell_type": "code",
   "execution_count": 12,
   "metadata": {
    "collapsed": false
   },
   "outputs": [
    {
     "data": {
      "text/plain": [
       "Float64"
      ]
     },
     "execution_count": 12,
     "metadata": {},
     "output_type": "execute_result"
    }
   ],
   "source": [
    "typeof(a)"
   ]
  },
  {
   "cell_type": "markdown",
   "metadata": {},
   "source": [
    "### Besides concrete types, there are abstract types\n",
    "\n",
    "* Concrete types correspond to a definitive layout in memory (Int16, Int64, Array{Bool, 2})\n",
    "* Abstract types correspond to a collection or catigory of concrete types.\n",
    "* For example both Int64 and Float64 are a subtype of Real which is a subtype of Number, etc...\n",
    "* This gives a whole tree of types.\n",
    "* Leaf nodes of the tree are concrete types (these types have a specific way they are layed out in memory)\n",
    "* Parent nodes are abstract types (which don't have a fixed memory layout configuration)\n",
    "* For example Int16 and Int64 are both of abstract type Real but have different memory layouts"
   ]
  },
  {
   "cell_type": "markdown",
   "metadata": {},
   "source": [
    "You can move up tree with super"
   ]
  },
  {
   "cell_type": "code",
   "execution_count": 13,
   "metadata": {
    "collapsed": false
   },
   "outputs": [
    {
     "data": {
      "text/plain": [
       "Signed"
      ]
     },
     "execution_count": 13,
     "metadata": {},
     "output_type": "execute_result"
    }
   ],
   "source": [
    "super(Int64)"
   ]
  },
  {
   "cell_type": "code",
   "execution_count": 14,
   "metadata": {
    "collapsed": false
   },
   "outputs": [
    {
     "data": {
      "text/plain": [
       "Integer"
      ]
     },
     "execution_count": 14,
     "metadata": {},
     "output_type": "execute_result"
    }
   ],
   "source": [
    "super(Int64) |> super"
   ]
  },
  {
   "cell_type": "code",
   "execution_count": 15,
   "metadata": {
    "collapsed": false
   },
   "outputs": [
    {
     "data": {
      "text/plain": [
       "Real"
      ]
     },
     "execution_count": 15,
     "metadata": {},
     "output_type": "execute_result"
    }
   ],
   "source": [
    "super(Int64) |> super |> super"
   ]
  },
  {
   "cell_type": "code",
   "execution_count": 16,
   "metadata": {
    "collapsed": false
   },
   "outputs": [
    {
     "data": {
      "text/plain": [
       "Number"
      ]
     },
     "execution_count": 16,
     "metadata": {},
     "output_type": "execute_result"
    }
   ],
   "source": [
    "super(Int64) |> super |> super |> super"
   ]
  },
  {
   "cell_type": "markdown",
   "metadata": {},
   "source": [
    "At the top of the tree we have Any"
   ]
  },
  {
   "cell_type": "code",
   "execution_count": 17,
   "metadata": {
    "collapsed": false
   },
   "outputs": [
    {
     "data": {
      "text/plain": [
       "Any"
      ]
     },
     "execution_count": 17,
     "metadata": {},
     "output_type": "execute_result"
    }
   ],
   "source": [
    "super(Int64) |> super |> super |> super |> super"
   ]
  },
  {
   "cell_type": "markdown",
   "metadata": {},
   "source": [
    "You can move down the tree with subtypes"
   ]
  },
  {
   "cell_type": "code",
   "execution_count": 18,
   "metadata": {
    "collapsed": false
   },
   "outputs": [
    {
     "data": {
      "text/plain": [
       "4-element Array{Any,1}:\n",
       " BigFloat\n",
       " Float16 \n",
       " Float32 \n",
       " Float64 "
      ]
     },
     "execution_count": 18,
     "metadata": {},
     "output_type": "execute_result"
    }
   ],
   "source": [
    "subtypes(AbstractFloat)"
   ]
  },
  {
   "cell_type": "code",
   "execution_count": 19,
   "metadata": {
    "collapsed": false
   },
   "outputs": [
    {
     "data": {
      "text/plain": [
       "18-element Array{Any,1}:\n",
       " AbstractSparseArray{Tv,Ti,N}                                                                  \n",
       " Base.LinAlg.AbstractTriangular{T,S<:AbstractArray{T,2}}                                       \n",
       " Base.LinAlg.HessenbergQ{T,S<:AbstractArray{T,2}}                                              \n",
       " Base.LinAlg.QRCompactWYQ{S,M<:AbstractArray{T,2}}                                             \n",
       " Base.LinAlg.QRPackedQ{T,S<:AbstractArray{T,2}}                                                \n",
       " Base.LinAlg.SVDOperator{T<:Union{Complex{Float32},Complex{Float64},Float32,Float64},S}        \n",
       " Base.SparseMatrix.CHOLMOD.FactorComponent{Tv,S}                                               \n",
       " Bidiagonal{T}                                                                                 \n",
       " Core.Inference.Range{T}                                                                       \n",
       " DenseArray{T,N}                                                                               \n",
       " Diagonal{T}                                                                                   \n",
       " Hermitian{T,S<:AbstractArray{T,2}}                                                            \n",
       " Range{T}                                                                                      \n",
       " SubArray{T,N,P<:AbstractArray{T,N},I<:Tuple{Vararg{Union{AbstractArray{T,1},Colon,Int64}}},LD}\n",
       " SymTridiagonal{T}                                                                             \n",
       " Symmetric{T,S<:AbstractArray{T,2}}                                                            \n",
       " Tridiagonal{T}                                                                                \n",
       " ZMQ.Message                                                                                   "
      ]
     },
     "execution_count": 19,
     "metadata": {},
     "output_type": "execute_result"
    }
   ],
   "source": [
    "subtypes(AbstractArray)"
   ]
  },
  {
   "cell_type": "markdown",
   "metadata": {},
   "source": [
    "Check if a type is an ancestor "
   ]
  },
  {
   "cell_type": "code",
   "execution_count": 20,
   "metadata": {
    "collapsed": false
   },
   "outputs": [
    {
     "data": {
      "text/plain": [
       "true"
      ]
     },
     "execution_count": 20,
     "metadata": {},
     "output_type": "execute_result"
    }
   ],
   "source": [
    "AbstractFloat <: Number"
   ]
  },
  {
   "cell_type": "code",
   "execution_count": 21,
   "metadata": {
    "collapsed": false
   },
   "outputs": [
    {
     "data": {
      "text/plain": [
       "false"
      ]
     },
     "execution_count": 21,
     "metadata": {},
     "output_type": "execute_result"
    }
   ],
   "source": [
    "AbstractFloat <: AbstractArray"
   ]
  },
  {
   "cell_type": "markdown",
   "metadata": {},
   "source": [
    "* You can make user defined types easy too (we'll see that in a second).\n",
    "* The type system is a bit more exposed in Julia than in matlab\n",
    "* The reason is multiple dispatch.\n",
    "* Instead of having the OO style where functions \"live\" with the objection or types, types and functions are seperated\n",
    "* To specify the behavor of a function on a new type or object, one can annotate the types of the arguments\n",
    "\n",
    "I'm defining 4 different versions of foo.\n",
    " "
   ]
  },
  {
   "cell_type": "code",
   "execution_count": 22,
   "metadata": {
    "collapsed": false
   },
   "outputs": [
    {
     "data": {
      "text/plain": [
       "foo (generic function with 4 methods)"
      ]
     },
     "execution_count": 22,
     "metadata": {},
     "output_type": "execute_result"
    }
   ],
   "source": [
    "function foo(x::AbstractFloat, y::AbstractFloat)\n",
    "        println(\"foo(Float, Float) was called\")\n",
    "        round(Int, x * y)\n",
    "end\n",
    "\n",
    "function foo(x::Integer, y::Integer)\n",
    "        println(\"foo(Int, Int)  was called\")\n",
    "        x * y\n",
    "end\n",
    "\n",
    "function foo(x, y) # fall back\n",
    "        println(\"fall back was called\")\n",
    "        round(Int, x .* y)\n",
    "end\n",
    "\n",
    "function foo(x)\n",
    "        foo(x, x)\n",
    "end"
   ]
  },
  {
   "cell_type": "code",
   "execution_count": 23,
   "metadata": {
    "collapsed": false
   },
   "outputs": [
    {
     "name": "stdout",
     "output_type": "stream",
     "text": [
      "foo(Int, Int)  was called\n"
     ]
    },
    {
     "data": {
      "text/plain": [
       "1"
      ]
     },
     "execution_count": 23,
     "metadata": {},
     "output_type": "execute_result"
    }
   ],
   "source": [
    "foo(1, 1)"
   ]
  },
  {
   "cell_type": "code",
   "execution_count": 24,
   "metadata": {
    "collapsed": false
   },
   "outputs": [
    {
     "name": "stdout",
     "output_type": "stream",
     "text": [
      "fall back was called\n"
     ]
    },
    {
     "data": {
      "text/plain": [
       "2"
      ]
     },
     "execution_count": 24,
     "metadata": {},
     "output_type": "execute_result"
    }
   ],
   "source": [
    "foo(2.0, 1)"
   ]
  },
  {
   "cell_type": "code",
   "execution_count": 25,
   "metadata": {
    "collapsed": false
   },
   "outputs": [
    {
     "name": "stdout",
     "output_type": "stream",
     "text": [
      "foo(Float, Float) was called\n"
     ]
    },
    {
     "data": {
      "text/plain": [
       "10"
      ]
     },
     "execution_count": 25,
     "metadata": {},
     "output_type": "execute_result"
    }
   ],
   "source": [
    "foo(2.0, 4.9)"
   ]
  },
  {
   "cell_type": "code",
   "execution_count": 26,
   "metadata": {
    "collapsed": false
   },
   "outputs": [
    {
     "name": "stdout",
     "output_type": "stream",
     "text": [
      "foo(Float, Float) was called\n"
     ]
    },
    {
     "data": {
      "text/plain": [
       "4"
      ]
     },
     "execution_count": 26,
     "metadata": {},
     "output_type": "execute_result"
    }
   ],
   "source": [
    "foo(2.0)"
   ]
  },
  {
   "cell_type": "code",
   "execution_count": 27,
   "metadata": {
    "collapsed": false
   },
   "outputs": [
    {
     "name": "stdout",
     "output_type": "stream",
     "text": [
      "fall back was called\n"
     ]
    },
    {
     "data": {
      "text/plain": [
       "15x15 Array{Int64,2}:\n",
       " 1  0  2  0  0  1  0  0  0  4  1  3  0  1  2\n",
       " 0  0  1  0  1  0  0  0  0  1  0  0  1  0  6\n",
       " 5  0  1  0  1  0  0  0  1  1  0  1  1  0  0\n",
       " 0  0  1  1  0  1  0  0  0  1  0  5  1  0  0\n",
       " 2  0  3  0  0  1  0  0  0  0  1  1  4  1  0\n",
       " 2  2  2  0  0  0  1  0  0  1  0  2  0  2  0\n",
       " 4  1  0  2  2  2  0  1  2  1  0  1  0  2  0\n",
       " 0  0  0  0  0  0  0  1  0  1  0  0  0  1  2\n",
       " 0  0  1  4  0  0  0  1  0  4  2  0  2  0  2\n",
       " 2  2  1  1  0  0  0  0  0  0  1  0  0  2  1\n",
       " 0  0  0  0  0  0  3  0  0  0  0  0  0  0  1\n",
       " 4  5  5  0  1  0  0  0  2  0  2  1  0  1  0\n",
       " 1  0  2  0  0  2  0  1  2  2  1  1  1  0  1\n",
       " 0  3  1  0  0  0  0  0  0  0  4  0  0  0  1\n",
       " 0  1  0  0  1  0  0  1  0  1  1  1  0  0  1"
      ]
     },
     "execution_count": 27,
     "metadata": {},
     "output_type": "execute_result"
    }
   ],
   "source": [
    "foo(randn(15, 15))"
   ]
  },
  {
   "cell_type": "markdown",
   "metadata": {},
   "source": [
    "Lists all the possible call signatures\n",
    " "
   ]
  },
  {
   "cell_type": "code",
   "execution_count": 28,
   "metadata": {
    "collapsed": false
   },
   "outputs": [
    {
     "data": {
      "text/html": [
       "4 methods for generic function <b>foo</b>:<ul><li> foo(x::<b>AbstractFloat</b>, y::<b>AbstractFloat</b>) at In[22]:2<li> foo(x::<b>Integer</b>, y::<b>Integer</b>) at In[22]:7<li> foo(x) at In[22]:17<li> foo(x, y) at In[22]:12</ul>"
      ],
      "text/plain": [
       "# 4 methods for generic function \"foo\":\n",
       "foo(x::AbstractFloat, y::AbstractFloat) at In[22]:2\n",
       "foo(x::Integer, y::Integer) at In[22]:7\n",
       "foo(x) at In[22]:17\n",
       "foo(x, y) at In[22]:12"
      ]
     },
     "execution_count": 28,
     "metadata": {},
     "output_type": "execute_result"
    }
   ],
   "source": [
    "methods(foo)"
   ]
  },
  {
   "cell_type": "markdown",
   "metadata": {},
   "source": [
    "### Just-in-time compilation (JIT)\n",
    "\n",
    "* When `foo(1, 1)` is called it looks up the type signature of the arguments and decides which function to use\n",
    "* It also, checks to see if you have called that function with those same type arguments,\n",
    "* If not it tries to JIT complile it and will save that compiled version for the next time you use it with those same type of arguments"
   ]
  },
  {
   "cell_type": "code",
   "execution_count": 29,
   "metadata": {
    "collapsed": false
   },
   "outputs": [
    {
     "data": {
      "text/plain": [
       "2"
      ]
     },
     "execution_count": 29,
     "metadata": {},
     "output_type": "execute_result"
    }
   ],
   "source": [
    "a = 2"
   ]
  },
  {
   "cell_type": "markdown",
   "metadata": {},
   "source": [
    "Warm up Jit compile"
   ]
  },
  {
   "cell_type": "code",
   "execution_count": 30,
   "metadata": {
    "collapsed": false
   },
   "outputs": [
    {
     "name": "stdout",
     "output_type": "stream",
     "text": [
      "foo(Int, Int)  was called\n",
      "  "
     ]
    },
    {
     "data": {
      "text/plain": [
       "4"
      ]
     },
     "execution_count": 30,
     "metadata": {},
     "output_type": "execute_result"
    },
    {
     "name": "stdout",
     "output_type": "stream",
     "text": [
      "0.001345 seconds (684 allocations: 78.397 KB)\n"
     ]
    }
   ],
   "source": [
    "@time foo(a)"
   ]
  },
  {
   "cell_type": "markdown",
   "metadata": {},
   "source": [
    "Now we are using the Jit"
   ]
  },
  {
   "cell_type": "code",
   "execution_count": 31,
   "metadata": {
    "collapsed": false
   },
   "outputs": [
    {
     "name": "stdout",
     "output_type": "stream",
     "text": [
      "foo(Int, Int)  was called\n"
     ]
    },
    {
     "data": {
      "text/plain": [
       "4"
      ]
     },
     "execution_count": 31,
     "metadata": {},
     "output_type": "execute_result"
    },
    {
     "name": "stdout",
     "output_type": "stream",
     "text": [
      "  0.000194 seconds (309 allocations: 14.422 KB)\n"
     ]
    }
   ],
   "source": [
    "@time foo(a)"
   ]
  },
  {
   "cell_type": "markdown",
   "metadata": {},
   "source": [
    "* So it is very easy to optimize some functions for different types of arguments.\n",
    "* but you need to write your code so Julia can infer the types to compile it\n",
    "* Note: Defining with type anotation like `foo(x::Float64, y::Int)` will be just as fast as `foo(x, y)`. In particular, when foo(Float64, Int) is called, it already knows the types of the arguments and will compile for that type signature.\n",
    "\n",
    "### Type stability\n",
    "When functions are not type stable, the JIT doesn't work (as effectively)\n",
    "\n",
    "The following function is not type stable.\n",
    " "
   ]
  },
  {
   "cell_type": "code",
   "execution_count": 32,
   "metadata": {
    "collapsed": false
   },
   "outputs": [
    {
     "data": {
      "text/plain": [
       "baz (generic function with 1 method)"
      ]
     },
     "execution_count": 32,
     "metadata": {},
     "output_type": "execute_result"
    }
   ],
   "source": [
    "function baz(x)\n",
    "    cntr = 0        # starts as as int\n",
    "    for i = 1:length(x)\n",
    "        if x[i] > 0\n",
    "            cntr += 1.0 # depending on the run time values  might promote to a float\n",
    "        end\n",
    "    end\n",
    "    cntr\n",
    "end"
   ]
  },
  {
   "cell_type": "markdown",
   "metadata": {},
   "source": [
    "This one is type stable\n",
    " "
   ]
  },
  {
   "cell_type": "code",
   "execution_count": 33,
   "metadata": {
    "collapsed": false
   },
   "outputs": [
    {
     "data": {
      "text/plain": [
       "boo (generic function with 1 method)"
      ]
     },
     "execution_count": 33,
     "metadata": {},
     "output_type": "execute_result"
    }
   ],
   "source": [
    "function boo(x)\n",
    "    cntr = 0.0        # starts as as float\n",
    "    for i = 1:length(x)\n",
    "        if x[i] > 0\n",
    "        \tcntr += 1.0 # stays a float\n",
    "        end\n",
    "    end\n",
    "    cntr\n",
    "end"
   ]
  },
  {
   "cell_type": "code",
   "execution_count": 34,
   "metadata": {
    "collapsed": false
   },
   "outputs": [
    {
     "data": {
      "text/plain": [
       "1000000-element Array{Float64,1}:\n",
       " 0.689822 \n",
       " 0.723767 \n",
       " 0.329307 \n",
       " 0.350774 \n",
       " 0.494701 \n",
       " 0.0848251\n",
       " 0.0556951\n",
       " 0.264839 \n",
       " 0.94545  \n",
       " 0.443409 \n",
       " 0.518686 \n",
       " 0.208869 \n",
       " 0.28026  \n",
       " ⋮        \n",
       " 0.77693  \n",
       " 0.594362 \n",
       " 0.347436 \n",
       " 0.983789 \n",
       " 0.83868  \n",
       " 0.62381  \n",
       " 0.864981 \n",
       " 0.221135 \n",
       " 0.792031 \n",
       " 0.81677  \n",
       " 0.81722  \n",
       " 0.0414312"
      ]
     },
     "execution_count": 34,
     "metadata": {},
     "output_type": "execute_result"
    }
   ],
   "source": [
    "a = rand(1_000_000)"
   ]
  },
  {
   "cell_type": "code",
   "execution_count": 35,
   "metadata": {
    "collapsed": false
   },
   "outputs": [
    {
     "name": "stdout",
     "output_type": "stream",
     "text": [
      "  "
     ]
    },
    {
     "data": {
      "text/plain": [
       "1.0e6"
      ]
     },
     "execution_count": 35,
     "metadata": {},
     "output_type": "execute_result"
    },
    {
     "name": "stdout",
     "output_type": "stream",
     "text": [
      "0.034873 seconds (1.00 M allocations: 15.395 MB, 10.58% gc time)\n"
     ]
    }
   ],
   "source": [
    "@time baz(a)"
   ]
  },
  {
   "cell_type": "code",
   "execution_count": 36,
   "metadata": {
    "collapsed": false
   },
   "outputs": [
    {
     "name": "stdout",
     "output_type": "stream",
     "text": [
      "  "
     ]
    },
    {
     "data": {
      "text/plain": [
       "1.0e6"
      ]
     },
     "execution_count": 36,
     "metadata": {},
     "output_type": "execute_result"
    },
    {
     "name": "stdout",
     "output_type": "stream",
     "text": [
      "0.027558 seconds (1.00 M allocations: 15.259 MB)\n"
     ]
    }
   ],
   "source": [
    "@time baz(a)"
   ]
  },
  {
   "cell_type": "code",
   "execution_count": 37,
   "metadata": {
    "collapsed": false
   },
   "outputs": [
    {
     "name": "stdout",
     "output_type": "stream",
     "text": [
      "  "
     ]
    },
    {
     "data": {
      "text/plain": [
       "1.0e6"
      ]
     },
     "execution_count": 37,
     "metadata": {},
     "output_type": "execute_result"
    },
    {
     "name": "stdout",
     "output_type": "stream",
     "text": [
      "0.007345 seconds (2.24 k allocations: 111.458 KB, 30.49% gc time)\n"
     ]
    }
   ],
   "source": [
    "@time boo(a)"
   ]
  },
  {
   "cell_type": "code",
   "execution_count": 38,
   "metadata": {
    "collapsed": false
   },
   "outputs": [
    {
     "name": "stdout",
     "output_type": "stream",
     "text": [
      "  "
     ]
    },
    {
     "data": {
      "text/plain": [
       "1.0e6"
      ]
     },
     "execution_count": 38,
     "metadata": {},
     "output_type": "execute_result"
    },
    {
     "name": "stdout",
     "output_type": "stream",
     "text": [
      "0.001363 seconds (5 allocations: 176 bytes)\n"
     ]
    }
   ],
   "source": [
    "@time boo(a)"
   ]
  },
  {
   "cell_type": "markdown",
   "metadata": {},
   "source": [
    "### We can look under the hood at the type inference"
   ]
  },
  {
   "cell_type": "code",
   "execution_count": 39,
   "metadata": {
    "collapsed": false
   },
   "outputs": [
    {
     "name": "stdout",
     "output_type": "stream",
     "text": [
      "Variables:\n",
      "  x::Array{Float64,1}\n",
      "  cntr::ANY\n",
      "  #s41::Int64\n",
      "  i::Int64\n",
      "  ####fx#1710#8037::Float64\n",
      "\n",
      "Body:\n",
      "  begin  # In[32], line 2:\n",
      "      cntr = 0 # In[32], line 3:\n",
      "      GenSym(2) = (Base.arraylen)(x::Array{Float64,1})::Int64\n",
      "      GenSym(0) = $(Expr(:new, UnitRange{Int64}, 1, :(((top(getfield))(Base.Intrinsics,:select_value)::I)((Base.sle_int)(1,GenSym(2))::Bool,GenSym(2),(Base.box)(Int64,(Base.sub_int)(1,1)))::Int64)))\n",
      "      #s41 = (top(getfield))(GenSym(0),:start)::Int64\n",
      "      unless (Base.box)(Base.Bool,(Base.not_int)(#s41::Int64 === (Base.box)(Base.Int,(Base.add_int)((top(getfield))(GenSym(0),:stop)::Int64,1))::Bool)) goto 1\n",
      "      2: \n",
      "      GenSym(4) = #s41::Int64\n",
      "      GenSym(5) = (Base.box)(Base.Int,(Base.add_int)(#s41::Int64,1))\n",
      "      i = GenSym(4)\n",
      "      #s41 = GenSym(5) # In[32], line 4:\n",
      "      GenSym(3) = (Base.arrayref)(x::Array{Float64,1},i::Int64)::Float64\n",
      "      ####fx#1710#8037 = (Base.box)(Float64,(Base.sitofp)(Float64,0))\n",
      "      unless (Base.box)(Base.Bool,(Base.or_int)((Base.lt_float)(####fx#1710#8037::Float64,GenSym(3))::Bool,(Base.box)(Base.Bool,(Base.and_int)((Base.eq_float)(####fx#1710#8037::Float64,GenSym(3))::Bool,(Base.box)(Base.Bool,(Base.or_int)((Base.eq_float)(####fx#1710#8037::Float64,9.223372036854776e18)::Bool,(Base.slt_int)(0,(Base.box)(Int64,(Base.fptosi)(Int64,####fx#1710#8037::Float64)))::Bool)))))) goto 4 # In[32], line 5:\n",
      "      cntr = cntr::UNION{FLOAT64,INT64} + 1.0::Float64\n",
      "      4: \n",
      "      3: \n",
      "      unless (Base.box)(Base.Bool,(Base.not_int)((Base.box)(Base.Bool,(Base.not_int)(#s41::Int64 === (Base.box)(Base.Int,(Base.add_int)((top(getfield))(GenSym(0),:stop)::Int64,1))::Bool)))) goto 2\n",
      "      1: \n",
      "      0:  # In[32], line 8:\n",
      "      return cntr::UNION{FLOAT64,INT64}\n",
      "  end::UNION{FLOAT64,INT64}\n"
     ]
    }
   ],
   "source": [
    "@code_warntype baz(a)"
   ]
  },
  {
   "cell_type": "code",
   "execution_count": 40,
   "metadata": {
    "collapsed": false
   },
   "outputs": [
    {
     "name": "stdout",
     "output_type": "stream",
     "text": [
      "Variables:\n",
      "  x::Array{Float64,1}\n",
      "  cntr::Float64\n",
      "  #s41::Int64\n",
      "  i::Int64\n",
      "  ####fx#1710#8038::Float64\n",
      "\n",
      "Body:\n",
      "  begin  # In[33], line 2:\n",
      "      cntr = 0.0 # In[33], line 3:\n",
      "      GenSym(2) = (Base.arraylen)(x::Array{Float64,1})::Int64\n",
      "      GenSym(0) = $(Expr(:new, UnitRange{Int64}, 1, :(((top(getfield))(Base.Intrinsics,:select_value)::I)((Base.sle_int)(1,GenSym(2))::Bool,GenSym(2),(Base.box)(Int64,(Base.sub_int)(1,1)))::Int64)))\n",
      "      #s41 = (top(getfield))(GenSym(0),:start)::Int64\n",
      "      unless (Base.box)(Base.Bool,(Base.not_int)(#s41::Int64 === (Base.box)(Base.Int,(Base.add_int)((top(getfield))(GenSym(0),:stop)::Int64,1))::Bool)) goto 1\n",
      "      2: \n",
      "      GenSym(4) = #s41::Int64\n",
      "      GenSym(5) = (Base.box)(Base.Int,(Base.add_int)(#s41::Int64,1))\n",
      "      i = GenSym(4)\n",
      "      #s41 = GenSym(5) # In[33], line 4:\n",
      "      GenSym(3) = (Base.arrayref)(x::Array{Float64,1},i::Int64)::Float64\n",
      "      ####fx#1710#8038 = (Base.box)(Float64,(Base.sitofp)(Float64,0))\n",
      "      unless (Base.box)(Base.Bool,(Base.or_int)((Base.lt_float)(####fx#1710#8038::Float64,GenSym(3))::Bool,(Base.box)(Base.Bool,(Base.and_int)((Base.eq_float)(####fx#1710#8038::Float64,GenSym(3))::Bool,(Base.box)(Base.Bool,(Base.or_int)((Base.eq_float)(####fx#1710#8038::Float64,9.223372036854776e18)::Bool,(Base.slt_int)(0,(Base.box)(Int64,(Base.fptosi)(Int64,####fx#1710#8038::Float64)))::Bool)))))) goto 4 # In[33], line 5:\n",
      "      cntr = (Base.box)(Base.Float64,(Base.add_float)(cntr::Float64,1.0))\n",
      "      4: \n",
      "      3: \n",
      "      unless (Base.box)(Base.Bool,(Base.not_int)((Base.box)(Base.Bool,(Base.not_int)(#s41::Int64 === (Base.box)(Base.Int,(Base.add_int)((top(getfield))(GenSym(0),:stop)::Int64,1))::Bool)))) goto 2\n",
      "      1: \n",
      "      0:  # In[33], line 8:\n",
      "      return cntr::Float64\n",
      "  end::Float64\n"
     ]
    }
   ],
   "source": [
    "@code_warntype boo(a)"
   ]
  },
  {
   "cell_type": "markdown",
   "metadata": {},
   "source": [
    "### We can really look under the hood at the lowered code"
   ]
  },
  {
   "cell_type": "code",
   "execution_count": 41,
   "metadata": {
    "collapsed": false
   },
   "outputs": [
    {
     "data": {
      "text/plain": [
       "1-element Array{Any,1}:\n",
       " :($(Expr(:lambda, Any[:x], Any[Any[Any[:x,:Any,0],Any[:cntr,:Any,2],Any[symbol(\"#s41\"),:Any,2],Any[:i,:Any,18]],Any[],2,Any[]], :(begin  # In[32], line 2:\n",
       "        cntr = 0 # In[32], line 3:\n",
       "        GenSym(0) = (Main.colon)(1,(Main.length)(x))\n",
       "        #s41 = (top(start))(GenSym(0))\n",
       "        unless (top(!))((top(done))(GenSym(0),#s41)) goto 1\n",
       "        2: \n",
       "        GenSym(1) = (top(next))(GenSym(0),#s41)\n",
       "        i = (top(getfield))(GenSym(1),1)\n",
       "        #s41 = (top(getfield))(GenSym(1),2) # In[32], line 4:\n",
       "        unless (Main.getindex)(x,i) > 0 goto 4 # In[32], line 5:\n",
       "        cntr = cntr + 1.0\n",
       "        4: \n",
       "        3: \n",
       "        unless (top(!))((top(!))((top(done))(GenSym(0),#s41))) goto 2\n",
       "        1: \n",
       "        0:  # In[32], line 8:\n",
       "        return cntr\n",
       "    end))))"
      ]
     },
     "execution_count": 41,
     "metadata": {},
     "output_type": "execute_result"
    }
   ],
   "source": [
    "@code_lowered baz(a)"
   ]
  },
  {
   "cell_type": "code",
   "execution_count": 42,
   "metadata": {
    "collapsed": false
   },
   "outputs": [
    {
     "data": {
      "text/plain": [
       "1-element Array{Any,1}:\n",
       " :($(Expr(:lambda, Any[:x], Any[Any[Any[:x,:Any,0],Any[:cntr,:Any,2],Any[symbol(\"#s41\"),:Any,2],Any[:i,:Any,18]],Any[],2,Any[]], :(begin  # In[33], line 2:\n",
       "        cntr = 0.0 # In[33], line 3:\n",
       "        GenSym(0) = (Main.colon)(1,(Main.length)(x))\n",
       "        #s41 = (top(start))(GenSym(0))\n",
       "        unless (top(!))((top(done))(GenSym(0),#s41)) goto 1\n",
       "        2: \n",
       "        GenSym(1) = (top(next))(GenSym(0),#s41)\n",
       "        i = (top(getfield))(GenSym(1),1)\n",
       "        #s41 = (top(getfield))(GenSym(1),2) # In[33], line 4:\n",
       "        unless (Main.getindex)(x,i) > 0 goto 4 # In[33], line 5:\n",
       "        cntr = cntr + 1.0\n",
       "        4: \n",
       "        3: \n",
       "        unless (top(!))((top(!))((top(done))(GenSym(0),#s41))) goto 2\n",
       "        1: \n",
       "        0:  # In[33], line 8:\n",
       "        return cntr\n",
       "    end))))"
      ]
     },
     "execution_count": 42,
     "metadata": {},
     "output_type": "execute_result"
    }
   ],
   "source": [
    "@code_lowered boo(a)"
   ]
  },
  {
   "cell_type": "markdown",
   "metadata": {},
   "source": [
    "### We can really look under the hood at the llvm code"
   ]
  },
  {
   "cell_type": "code",
   "execution_count": 43,
   "metadata": {
    "collapsed": false
   },
   "outputs": [
    {
     "name": "stdout",
     "output_type": "stream",
     "text": [
      "\n",
      "define %jl_value_t* @julia_baz_22310(%jl_value_t*, %jl_value_t**, i32) {\n",
      "top:\n",
      "  %3 = alloca [5 x %jl_value_t*], align 8\n",
      "  %.sub = getelementptr inbounds [5 x %jl_value_t*]* %3, i64 0, i64 0\n",
      "  %4 = getelementptr [5 x %jl_value_t*]* %3, i64 0, i64 2\n",
      "  %5 = getelementptr [5 x %jl_value_t*]* %3, i64 0, i64 3\n",
      "  store %jl_value_t* inttoptr (i64 6 to %jl_value_t*), %jl_value_t** %.sub, align 8\n",
      "  %6 = load %jl_value_t*** @jl_pgcstack, align 8\n",
      "  %7 = getelementptr [5 x %jl_value_t*]* %3, i64 0, i64 1\n",
      "  %.c = bitcast %jl_value_t** %6 to %jl_value_t*\n",
      "  store %jl_value_t* %.c, %jl_value_t** %7, align 8\n",
      "  store %jl_value_t** %.sub, %jl_value_t*** @jl_pgcstack, align 8\n",
      "  store %jl_value_t* null, %jl_value_t** %4, align 8\n",
      "  store %jl_value_t* null, %jl_value_t** %5, align 8\n",
      "  %8 = getelementptr [5 x %jl_value_t*]* %3, i64 0, i64 4\n",
      "  store %jl_value_t* null, %jl_value_t** %8, align 8\n",
      "  %9 = load %jl_value_t** %1, align 8\n",
      "  store %jl_value_t* inttoptr (i64 4434321488 to %jl_value_t*), %jl_value_t** %4, align 8\n",
      "  %10 = getelementptr inbounds %jl_value_t* %9, i64 1\n",
      "  %11 = bitcast %jl_value_t* %10 to i64*\n",
      "  %12 = load i64* %11, align 8\n",
      "  %13 = icmp sgt i64 %12, 0\n",
      "  %14 = select i1 %13, i64 %12, i64 0\n",
      "  %15 = icmp eq i64 %14, 0\n",
      "  br i1 %15, label %L4, label %L.preheader\n",
      "\n",
      "L.preheader:                                      ; preds = %top\n",
      "  %16 = bitcast %jl_value_t* %9 to i8**\n",
      "  br label %L\n",
      "\n",
      "L:                                                ; preds = %L2, %L.preheader\n",
      "  %17 = phi %jl_value_t* [ %28, %L2 ], [ inttoptr (i64 4434321488 to %jl_value_t*), %L.preheader ]\n",
      "  %\"#s41.0\" = phi i64 [ %29, %L2 ], [ 1, %L.preheader ]\n",
      "  %18 = add i64 %\"#s41.0\", -1\n",
      "  %19 = load i64* %11, align 8\n",
      "  %20 = icmp ult i64 %18, %19\n",
      "  br i1 %20, label %idxend, label %oob\n",
      "\n",
      "oob:                                              ; preds = %L\n",
      "  %21 = alloca i64, align 8\n",
      "  store i64 %\"#s41.0\", i64* %21, align 8\n",
      "  call void @jl_bounds_error_ints(%jl_value_t* %9, i64* %21, i64 1)\n",
      "  unreachable\n",
      "\n",
      "idxend:                                           ; preds = %L\n",
      "  %22 = load i8** %16, align 8\n",
      "  %23 = bitcast i8* %22 to double*\n",
      "  %24 = getelementptr double* %23, i64 %18\n",
      "  %25 = load double* %24, align 8\n",
      "  %26 = fcmp ule double %25, 0.000000e+00\n",
      "  br i1 %26, label %L2, label %if1\n",
      "\n",
      "if1:                                              ; preds = %idxend\n",
      "  store %jl_value_t* %17, %jl_value_t** %5, align 8\n",
      "  store %jl_value_t* inttoptr (i64 4503039344 to %jl_value_t*), %jl_value_t** %8, align 8\n",
      "  %27 = call %jl_value_t* @jl_apply_generic(%jl_value_t* inttoptr (i64 4444203248 to %jl_value_t*), %jl_value_t** %5, i32 2)\n",
      "  store %jl_value_t* %27, %jl_value_t** %4, align 8\n",
      "  br label %L2\n",
      "\n",
      "L2:                                               ; preds = %if1, %idxend\n",
      "  %28 = phi %jl_value_t* [ %27, %if1 ], [ %17, %idxend ]\n",
      "  %29 = add i64 %\"#s41.0\", 1\n",
      "  %30 = icmp eq i64 %\"#s41.0\", %14\n",
      "  br i1 %30, label %L4, label %L\n",
      "\n",
      "L4:                                               ; preds = %L2, %top\n",
      "  %31 = phi %jl_value_t* [ inttoptr (i64 4434321488 to %jl_value_t*), %top ], [ %28, %L2 ]\n",
      "  %32 = load %jl_value_t** %7, align 8\n",
      "  %33 = getelementptr inbounds %jl_value_t* %32, i64 0, i32 0\n",
      "  store %jl_value_t** %33, %jl_value_t*** @jl_pgcstack, align 8\n",
      "  ret %jl_value_t* %31\n",
      "}\n"
     ]
    }
   ],
   "source": [
    "@code_llvm baz(a)"
   ]
  },
  {
   "cell_type": "code",
   "execution_count": 44,
   "metadata": {
    "collapsed": false
   },
   "outputs": [
    {
     "name": "stdout",
     "output_type": "stream",
     "text": [
      "\n",
      "define double @julia_boo_22311(%jl_value_t*) {\n",
      "top:\n",
      "  %1 = getelementptr inbounds %jl_value_t* %0, i64 1\n",
      "  %2 = bitcast %jl_value_t* %1 to i64*\n",
      "  %3 = load i64* %2, align 8\n",
      "  %4 = icmp sgt i64 %3, 0\n",
      "  %5 = select i1 %4, i64 %3, i64 0\n",
      "  %6 = icmp eq i64 %5, 0\n",
      "  br i1 %6, label %L4, label %L.preheader\n",
      "\n",
      "L.preheader:                                      ; preds = %top\n",
      "  %7 = load i64* %2, align 8\n",
      "  %8 = bitcast %jl_value_t* %0 to i8**\n",
      "  br label %L\n",
      "\n",
      "L:                                                ; preds = %L2, %L.preheader\n",
      "  %\"#s41.0\" = phi i64 [ %18, %L2 ], [ 1, %L.preheader ]\n",
      "  %cntr.0 = phi double [ %cntr.1, %L2 ], [ 0.000000e+00, %L.preheader ]\n",
      "  %9 = add i64 %\"#s41.0\", -1\n",
      "  %10 = icmp ult i64 %9, %7\n",
      "  br i1 %10, label %idxend, label %oob\n",
      "\n",
      "oob:                                              ; preds = %L\n",
      "  %11 = alloca i64, align 8\n",
      "  store i64 %\"#s41.0\", i64* %11, align 8\n",
      "  call void @jl_bounds_error_ints(%jl_value_t* %0, i64* %11, i64 1)\n",
      "  unreachable\n",
      "\n",
      "idxend:                                           ; preds = %L\n",
      "  %12 = load i8** %8, align 8\n",
      "  %13 = bitcast i8* %12 to double*\n",
      "  %14 = getelementptr double* %13, i64 %9\n",
      "  %15 = load double* %14, align 8\n",
      "  %16 = fcmp ule double %15, 0.000000e+00\n",
      "  br i1 %16, label %L2, label %if1\n",
      "\n",
      "if1:                                              ; preds = %idxend\n",
      "  %17 = fadd double %cntr.0, 1.000000e+00\n",
      "  br label %L2\n",
      "\n",
      "L2:                                               ; preds = %if1, %idxend\n",
      "  %cntr.1 = phi double [ %cntr.0, %idxend ], [ %17, %if1 ]\n",
      "  %18 = add i64 %\"#s41.0\", 1\n",
      "  %19 = icmp eq i64 %\"#s41.0\", %5\n",
      "  br i1 %19, label %L4, label %L\n",
      "\n",
      "L4:                                               ; preds = %L2, %top\n",
      "  %cntr.2 = phi double [ 0.000000e+00, %top ], [ %cntr.1, %L2 ]\n",
      "  ret double %cntr.2\n",
      "}\n"
     ]
    }
   ],
   "source": [
    "@code_llvm boo(a)"
   ]
  },
  {
   "cell_type": "markdown",
   "metadata": {},
   "source": [
    "### We can really look under the hood at the machine code"
   ]
  },
  {
   "cell_type": "code",
   "execution_count": 45,
   "metadata": {
    "collapsed": false
   },
   "outputs": [
    {
     "name": "stdout",
     "output_type": "stream",
     "text": [
      "\t.section\t__TEXT,__text,regular,pure_instructions\n",
      "Filename: In[32]\n",
      "Source line: 2\n",
      "\tpushq\t%rbp\n",
      "\tmovq\t%rsp, %rbp\n",
      "Source line: 2\n",
      "\tpushq\t%r15\n",
      "\tpushq\t%r14\n",
      "\tpushq\t%r13\n",
      "\tpushq\t%r12\n",
      "\tpushq\t%rbx\n",
      "\tsubq\t$40, %rsp\n",
      "\tmovq\t$6, -80(%rbp)\n",
      "\tmovabsq\t$jl_pgcstack, %rcx\n",
      "\tmovq\t(%rcx), %rax\n",
      "\tmovq\t%rax, -72(%rbp)\n",
      "\tleaq\t-80(%rbp), %rax\n",
      "\tmovq\t%rax, (%rcx)\n",
      "\tvxorpd\t%xmm0, %xmm0, %xmm0\n",
      "\tvmovupd\t%xmm0, -64(%rbp)\n",
      "\tmovq\t$0, -48(%rbp)\n",
      "\tmovq\t(%rsi), %r12\n",
      "\tmovabsq\t$4434321488, %rax       ## imm = 0x1084E6050\n",
      "\txorl\t%ebx, %ebx\n",
      "Source line: 2\n",
      "\tmovq\t%rax, -64(%rbp)\n",
      "Source line: 3\n",
      "\tmovq\t8(%r12), %r13\n",
      "\ttestq\t%r13, %r13\n",
      "\tmovl\t$0, %ecx\n",
      "\tcmovnsq\t%r13, %rcx\n",
      "\ttestq\t%rcx, %rcx\n",
      "\tje\tL247\n",
      "Source line: 5\n",
      "\ttestq\t%r13, %r13\n",
      "\tcmovsq\t%rbx, %r13\n",
      "Source line: 3\n",
      "\tnegq\t%r13\n",
      "\tmovabsq\t$4434321488, %rax       ## imm = 0x1084E6050\n",
      "Source line: 5\n",
      "\tmovabsq\t$jl_apply_generic, %r15\n",
      "\txorl\t%r14d, %r14d\n",
      "Source line: 4\n",
      "L144:\tcmpq\t8(%r12), %rbx\n",
      "\tjae\tL279\n",
      "Source line: 5\n",
      "\tleaq\t(,%r14,8), %rcx\n",
      "Source line: 4\n",
      "\tmovq\t(%r12), %rdx\n",
      "Source line: 5\n",
      "\tsubq\t%rcx, %rdx\n",
      "Source line: 4\n",
      "\tvmovsd\t(%rdx), %xmm0\n",
      "\tvxorpd\t%xmm1, %xmm1, %xmm1\n",
      "\tvucomisd\t%xmm1, %xmm0\n",
      "\tjbe\tL232\n",
      "Source line: 5\n",
      "\tmovq\t%rax, -56(%rbp)\n",
      "\tmovabsq\t$4503039344, %rax       ## imm = 0x10C66ED70\n",
      "\tmovq\t%rax, -48(%rbp)\n",
      "\tmovabsq\t$4444203248, %rdi       ## imm = 0x108E528F0\n",
      "Source line: 2\n",
      "\tleaq\t-56(%rbp), %rsi\n",
      "\tmovl\t$2, %edx\n",
      "Source line: 5\n",
      "\tcallq\t*%r15\n",
      "\tmovq\t%rax, -64(%rbp)\n",
      "L232:\tincq\t%rbx\n",
      "\tdecq\t%r14\n",
      "\tcmpq\t%r14, %r13\n",
      "\tjne\tL144\n",
      "Source line: 8\n",
      "L247:\tmovq\t-72(%rbp), %rcx\n",
      "Source line: 2\n",
      "\tmovabsq\t$jl_pgcstack, %rdx\n",
      "Source line: 8\n",
      "\tmovq\t%rcx, (%rdx)\n",
      "\tleaq\t-40(%rbp), %rsp\n",
      "\tpopq\t%rbx\n",
      "\tpopq\t%r12\n",
      "\tpopq\t%r13\n",
      "\tpopq\t%r14\n",
      "\tpopq\t%r15\n",
      "\tpopq\t%rbp\n",
      "\tret\n",
      "L279:\tmovl\t$1, %eax\n",
      "Source line: 4\n",
      "\tsubq\t%r14, %rax\n",
      "\tmovq\t%rsp, %rcx\n",
      "\tleaq\t-16(%rcx), %rsi\n",
      "\tmovq\t%rsi, %rsp\n",
      "\tmovq\t%rax, -16(%rcx)\n",
      "\tmovabsq\t$jl_bounds_error_ints, %rax\n",
      "\tmovq\t%r12, %rdi\n",
      "\tmovl\t$1, %edx\n",
      "\tcallq\t*%rax\n"
     ]
    }
   ],
   "source": [
    "@code_native baz(a)"
   ]
  },
  {
   "cell_type": "code",
   "execution_count": 46,
   "metadata": {
    "collapsed": false
   },
   "outputs": [
    {
     "name": "stdout",
     "output_type": "stream",
     "text": [
      "\t.section\t__TEXT,__text,regular,pure_instructions\n",
      "Filename: In[33]\n",
      "Source line: 3\n",
      "\tpushq\t%rbp\n",
      "\tmovq\t%rsp, %rbp\n",
      "Source line: 3\n",
      "\tmovq\t8(%rdi), %r9\n",
      "\txorl\t%ecx, %ecx\n",
      "\ttestq\t%r9, %r9\n",
      "\tmovl\t$0, %edx\n",
      "\tcmovnsq\t%r9, %rdx\n",
      "\tvxorps\t%xmm0, %xmm0, %xmm0\n",
      "\ttestq\t%rdx, %rdx\n",
      "\tje\tL129\n",
      "Source line: 5\n",
      "\ttestq\t%r9, %r9\n",
      "\tcmovsq\t%rcx, %r9\n",
      "Source line: 3\n",
      "\tnegq\t%r9\n",
      "Source line: 4\n",
      "\tmovq\t8(%rdi), %r8\n",
      "\tvxorpd\t%xmm1, %xmm1, %xmm1\n",
      "\tmovabsq\t$13272309728, %rax      ## imm = 0x317175FE0\n",
      "\tvmovsd\t(%rax), %xmm2\n",
      "\txorl\t%esi, %esi\n",
      "\tvxorps\t%xmm0, %xmm0, %xmm0\n",
      "L73:\tcmpq\t%r8, %rcx\n",
      "\tjae\tL134\n",
      "Source line: 5\n",
      "\tleaq\t(,%rsi,8), %rdx\n",
      "Source line: 4\n",
      "\tmovq\t(%rdi), %rax\n",
      "Source line: 5\n",
      "\tsubq\t%rdx, %rax\n",
      "Source line: 4\n",
      "\tvmovsd\t(%rax), %xmm3\n",
      "\tvucomisd\t%xmm1, %xmm3\n",
      "\tjbe\tL114\n",
      "Source line: 5\n",
      "\tvaddsd\t%xmm2, %xmm0, %xmm0\n",
      "L114:\tincq\t%rcx\n",
      "\tdecq\t%rsi\n",
      "\tcmpq\t%rsi, %r9\n",
      "\tjne\tL73\n",
      "Source line: 8\n",
      "L129:\tmovq\t%rbp, %rsp\n",
      "\tpopq\t%rbp\n",
      "\tret\n",
      "L134:\tmovl\t$1, %eax\n",
      "Source line: 4\n",
      "\tsubq\t%rsi, %rax\n",
      "\tmovq\t%rsp, %rcx\n",
      "\tleaq\t-16(%rcx), %rsi\n",
      "\tmovq\t%rsi, %rsp\n",
      "\tmovq\t%rax, -16(%rcx)\n",
      "\tmovabsq\t$jl_bounds_error_ints, %rax\n",
      "\tmovl\t$1, %edx\n",
      "\tcallq\t*%rax\n"
     ]
    }
   ],
   "source": [
    "@code_native boo(a)"
   ]
  },
  {
   "cell_type": "markdown",
   "metadata": {},
   "source": [
    "### Julia has been designed, from the groud up, to make type inference easier"
   ]
  },
  {
   "cell_type": "markdown",
   "metadata": {},
   "source": [
    "Notice that `sqrt(-1.0)` gives an error but `sqrt(-1.0+0.0im)` works. "
   ]
  },
  {
   "cell_type": "code",
   "execution_count": 47,
   "metadata": {
    "collapsed": false
   },
   "outputs": [
    {
     "ename": "LoadError",
     "evalue": "LoadError: DomainError:\nsqrt will only return a complex result if called with a complex argument. Try sqrt(complex(x)).\nwhile loading In[47], in expression starting on line 1",
     "output_type": "error",
     "traceback": [
      "LoadError: DomainError:\nsqrt will only return a complex result if called with a complex argument. Try sqrt(complex(x)).\nwhile loading In[47], in expression starting on line 1",
      "",
      " in sqrt at /Users/ethananderes/Software/julia4/usr/lib/julia/sys.dylib"
     ]
    }
   ],
   "source": [
    "sqrt(-1.0) #<--- error"
   ]
  },
  {
   "cell_type": "markdown",
   "metadata": {},
   "source": [
    "Why? The problem is that `sqrt(x)` may return either a float or a complex float depending on the run time values of `x` and not the type of `x`. Therefore, Julia throws an error in the case `x<0` so the type inference can always guarentee that `sqrt(Float)` will be a float."
   ]
  },
  {
   "cell_type": "code",
   "execution_count": 48,
   "metadata": {
    "collapsed": false
   },
   "outputs": [
    {
     "data": {
      "text/plain": [
       "0.0 + 1.0im"
      ]
     },
     "execution_count": 48,
     "metadata": {},
     "output_type": "execute_result"
    }
   ],
   "source": [
    "sqrt(-1.0+0im) # <---- works"
   ]
  },
  {
   "cell_type": "markdown",
   "metadata": {},
   "source": [
    "### Method dispatch in action\n",
    "\n",
    "* A great example is the Distributions package"
   ]
  },
  {
   "cell_type": "code",
   "execution_count": 49,
   "metadata": {
    "collapsed": false
   },
   "outputs": [
    {
     "data": {
      "text/plain": [
       "10-element Array{Float64,1}:\n",
       " 0.782917 \n",
       " 0.0470413\n",
       " 0.801526 \n",
       " 0.728042 \n",
       " 0.752398 \n",
       " 0.915504 \n",
       " 0.640927 \n",
       " 0.328117 \n",
       " 0.127831 \n",
       " 0.348905 "
      ]
     },
     "execution_count": 49,
     "metadata": {},
     "output_type": "execute_result"
    }
   ],
   "source": [
    "x = rand(10)"
   ]
  },
  {
   "cell_type": "code",
   "execution_count": 50,
   "metadata": {
    "collapsed": false
   },
   "outputs": [
    {
     "data": {
      "text/plain": [
       "(0.5473208122889365,0.30783004827364197)"
      ]
     },
     "execution_count": 50,
     "metadata": {},
     "output_type": "execute_result"
    }
   ],
   "source": [
    "mean(x), std(x)  # functions in Base Julia"
   ]
  },
  {
   "cell_type": "code",
   "execution_count": 51,
   "metadata": {
    "collapsed": false
   },
   "outputs": [
    {
     "data": {
      "text/plain": [
       "Distributions.Poisson(λ=5.5)"
      ]
     },
     "execution_count": 51,
     "metadata": {},
     "output_type": "execute_result"
    }
   ],
   "source": [
    " using Distributions\n",
    "λ, α, β = 5.5, 0.1, 0.9\n",
    "xrv = Beta(α, β) # creats an instance of a Beta random variable\n",
    "yrv = Poisson(λ) # creats  an instance of a Poisson\n",
    "zrv = Poisson(λ) # another instance"
   ]
  },
  {
   "cell_type": "code",
   "execution_count": 52,
   "metadata": {
    "collapsed": false
   },
   "outputs": [
    {
     "data": {
      "text/plain": [
       "(Distributions.Beta,Distributions.Poisson,Distributions.Poisson)"
      ]
     },
     "execution_count": 52,
     "metadata": {},
     "output_type": "execute_result"
    }
   ],
   "source": [
    "typeof(xrv), typeof(yrv), typeof(zrv)"
   ]
  },
  {
   "cell_type": "markdown",
   "metadata": {},
   "source": [
    "`mean` is overloaded to give the random variable expected value."
   ]
  },
  {
   "cell_type": "code",
   "execution_count": 53,
   "metadata": {
    "collapsed": false
   },
   "outputs": [
    {
     "data": {
      "text/plain": [
       "0.1"
      ]
     },
     "execution_count": 53,
     "metadata": {},
     "output_type": "execute_result"
    }
   ],
   "source": [
    " mean(xrv)  # expected value of a Beta(0.1, 0.9)"
   ]
  },
  {
   "cell_type": "markdown",
   "metadata": {},
   "source": [
    "`std` is overloaded to give the random variable standard deviation"
   ]
  },
  {
   "cell_type": "code",
   "execution_count": 54,
   "metadata": {
    "collapsed": false
   },
   "outputs": [
    {
     "data": {
      "text/plain": [
       "2.345207879911715"
      ]
     },
     "execution_count": 54,
     "metadata": {},
     "output_type": "execute_result"
    }
   ],
   "source": [
    "std(zrv)   # std of a Poisson(5.5)"
   ]
  },
  {
   "cell_type": "markdown",
   "metadata": {},
   "source": [
    "`rand` is overloaded to give random samples from yrv"
   ]
  },
  {
   "cell_type": "code",
   "execution_count": 55,
   "metadata": {
    "collapsed": false
   },
   "outputs": [
    {
     "data": {
      "text/plain": [
       "10-element Array{Int64,1}:\n",
       " 7\n",
       " 3\n",
       " 5\n",
       " 7\n",
       " 5\n",
       " 9\n",
       " 3\n",
       " 6\n",
       " 6\n",
       " 4"
      ]
     },
     "execution_count": 55,
     "metadata": {},
     "output_type": "execute_result"
    }
   ],
   "source": [
    "rand(yrv, 10)  # Poisson(5.5) samples"
   ]
  },
  {
   "cell_type": "markdown",
   "metadata": {},
   "source": [
    "Check which method is called"
   ]
  },
  {
   "cell_type": "code",
   "execution_count": 56,
   "metadata": {
    "collapsed": false
   },
   "outputs": [
    {
     "data": {
      "text/html": [
       "mean(d::<b>Distributions.Beta</b>) at <a href=\"https://github.com/JuliaStats/Distributions.jl/tree/77eea93ca943a98ca7f0f66302a5385e34e35eef/src/univariate/continuous/beta.jl#L22\" target=\"_blank\">/Users/ethananderes/.julia/v0.4/Distributions/src/univariate/continuous/beta.jl:22</a>"
      ],
      "text/plain": [
       "mean(d::Distributions.Beta) at /Users/ethananderes/.julia/v0.4/Distributions/src/univariate/continuous/beta.jl:22"
      ]
     },
     "execution_count": 56,
     "metadata": {},
     "output_type": "execute_result"
    }
   ],
   "source": [
    "@which mean(xrv)"
   ]
  },
  {
   "cell_type": "markdown",
   "metadata": {},
   "source": [
    "This will allow you to see the Julia source which was called.\n",
    "```julia\n",
    "julia> @edit mean(xrv)\n",
    "```"
   ]
  },
  {
   "cell_type": "markdown",
   "metadata": {},
   "source": [
    "If you have Julia source you can go directly to code.\n",
    "This is particularly useful when debugging (you can read the source to see what is going wrong)."
   ]
  },
  {
   "cell_type": "code",
   "execution_count": 57,
   "metadata": {
    "collapsed": false
   },
   "outputs": [
    {
     "ename": "LoadError",
     "evalue": "LoadError: MethodError: `/` has no method matching /(::ASCIIString, ::Int64)\nClosest candidates are:\n  /(!Matched::Integer, ::Integer)\n  /(!Matched::Complex{T<:Real}, ::Real)\n  /(!Matched::BigFloat, ::Union{Int16,Int32,Int64,Int8})\n  ...\nwhile loading In[57], in expression starting on line 1",
     "output_type": "error",
     "traceback": [
      "LoadError: MethodError: `/` has no method matching /(::ASCIIString, ::Int64)\nClosest candidates are:\n  /(!Matched::Integer, ::Integer)\n  /(!Matched::Complex{T<:Real}, ::Real)\n  /(!Matched::BigFloat, ::Union{Int16,Int32,Int64,Int8})\n  ...\nwhile loading In[57], in expression starting on line 1",
      "",
      " in mean at statistics.jl:19"
     ]
    }
   ],
   "source": [
    "mean([\"hi\"])"
   ]
  },
  {
   "cell_type": "markdown",
   "metadata": {},
   "source": [
    "Lets see where the definition of mean to see what is going wrong"
   ]
  },
  {
   "cell_type": "code",
   "execution_count": 58,
   "metadata": {
    "collapsed": false
   },
   "outputs": [
    {
     "data": {
      "text/html": [
       "mean(A::<b>AbstractArray{T,N}</b>) at <a href=\"https://github.com/JuliaLang/julia/tree/03c072d725b6e2798347d00c9b46a3965edddaf8/base/statistics.jl#L19\" target=\"_blank\">statistics.jl:19</a>"
      ],
      "text/plain": [
       "mean(A::AbstractArray{T,N}) at statistics.jl:19"
      ]
     },
     "execution_count": 58,
     "metadata": {},
     "output_type": "execute_result"
    }
   ],
   "source": [
    "@which mean([\"hi\"])"
   ]
  },
  {
   "cell_type": "markdown",
   "metadata": {},
   "source": [
    "# Writing fast code in Julia\n",
    "\n",
    "* Write most of you code in functions\n",
    "* Avoid globals (if you must use them, declare as `const` which can not change types)\n",
    "* Write type stable functions\n",
    "* Pre allocate arrays and use `for` loops\n",
    "* Optimize using the profiler\n",
    "\n",
    "\n",
    "## User defined types and metaprograming\n",
    "\n",
    "Here is how a user can defined a new type"
   ]
  },
  {
   "cell_type": "code",
   "execution_count": 59,
   "metadata": {
    "collapsed": true
   },
   "outputs": [],
   "source": [
    "type Hmatrix\n",
    "        frstcol :: Vector{Float64} # field names and optional type annotation\n",
    "        lastcol :: Vector{Float64} # this is where type annotation is important for speed, want these to be concrete types\n",
    "end"
   ]
  },
  {
   "cell_type": "markdown",
   "metadata": {},
   "source": [
    "Creat an instance of two Hmatrices. Basic default constructor"
   ]
  },
  {
   "cell_type": "code",
   "execution_count": 60,
   "metadata": {
    "collapsed": false
   },
   "outputs": [
    {
     "data": {
      "text/plain": [
       "Hmatrix([0.0,2.0,3.0],[0.0,6.0,7.0])"
      ]
     },
     "execution_count": 60,
     "metadata": {},
     "output_type": "execute_result"
    }
   ],
   "source": [
    "anHmat = Hmatrix([1.0 ,2.0 ,3.0], [5.0 ,6.0, 7.0])\n",
    "bnHmat = Hmatrix([0.0 ,2.0 ,3.0], [0.0 ,6.0, 7.0])"
   ]
  },
  {
   "cell_type": "markdown",
   "metadata": {},
   "source": [
    "Getting the field values."
   ]
  },
  {
   "cell_type": "code",
   "execution_count": 61,
   "metadata": {
    "collapsed": false
   },
   "outputs": [
    {
     "data": {
      "text/plain": [
       "3-element Array{Float64,1}:\n",
       " 5.0\n",
       " 6.0\n",
       " 7.0"
      ]
     },
     "execution_count": 61,
     "metadata": {},
     "output_type": "execute_result"
    }
   ],
   "source": [
    "anHmat.frstcol\n",
    "anHmat.lastcol"
   ]
  },
  {
   "cell_type": "markdown",
   "metadata": {},
   "source": [
    "Use dispatch to generate other constructors"
   ]
  },
  {
   "cell_type": "code",
   "execution_count": 62,
   "metadata": {
    "collapsed": false
   },
   "outputs": [
    {
     "data": {
      "text/plain": [
       "Heye (generic function with 1 method)"
      ]
     },
     "execution_count": 62,
     "metadata": {},
     "output_type": "execute_result"
    }
   ],
   "source": [
    "Hmatrix(x::Vector{Float64}) = Hmatrix(x, copy(x))\n",
    "Hmatrix(x::Float64, d::Int64) = Hmatrix(fill(x,d))\n",
    "Heye(d::Int64) = Hmatrix(fill(1.0,d))"
   ]
  },
  {
   "cell_type": "markdown",
   "metadata": {},
   "source": [
    "Now I can define operations on Hmatrix."
   ]
  },
  {
   "cell_type": "code",
   "execution_count": 63,
   "metadata": {
    "collapsed": false
   },
   "outputs": [
    {
     "data": {
      "text/plain": [
       "Hmatrix([0.8414709848078965,0.9092974268256817,0.1411200080598672],[-0.9589242746631385,-0.27941549819892586,0.6569865987187891])"
      ]
     },
     "execution_count": 63,
     "metadata": {},
     "output_type": "execute_result"
    }
   ],
   "source": [
    "import Base: sin, size\n",
    "sin(h::Hmatrix)  = Hmatrix(sin(h.frstcol), sin(h.lastcol))\n",
    "size(h::Hmatrix) = (length(h.frstcol), length(h.frstcol))\n",
    "sin(anHmat)"
   ]
  },
  {
   "cell_type": "code",
   "execution_count": 64,
   "metadata": {
    "collapsed": false
   },
   "outputs": [
    {
     "data": {
      "text/plain": [
       "(3,3)"
      ]
     },
     "execution_count": 64,
     "metadata": {},
     "output_type": "execute_result"
    }
   ],
   "source": [
    "size(anHmat)"
   ]
  },
  {
   "cell_type": "markdown",
   "metadata": {},
   "source": [
    "This gets tedious after a while so I program over the language itself: metaprograming"
   ]
  },
  {
   "cell_type": "code",
   "execution_count": 65,
   "metadata": {
    "collapsed": true
   },
   "outputs": [],
   "source": [
    "import Base: exp, abs, tan, log\n",
    "for op in [:exp, :abs, :tan, :log]\n",
    "        quote\n",
    "                $op(h::Hmatrix) = Hmatrix($op(h.frstcol), $op(h.lastcol))\n",
    "        end |> eval\n",
    "end"
   ]
  },
  {
   "cell_type": "code",
   "execution_count": 66,
   "metadata": {
    "collapsed": false
   },
   "outputs": [
    {
     "data": {
      "text/plain": [
       "Hmatrix([1.0,2.0,3.0],[5.0,6.0,7.0])"
      ]
     },
     "execution_count": 66,
     "metadata": {},
     "output_type": "execute_result"
    }
   ],
   "source": [
    "abs(anHmat)"
   ]
  },
  {
   "cell_type": "code",
   "execution_count": 67,
   "metadata": {
    "collapsed": false
   },
   "outputs": [
    {
     "data": {
      "text/plain": [
       "Hmatrix([1.5574077246549023,-2.185039863261519,-0.1425465430742778],[-3.380515006246586,-0.29100619138474915,0.8714479827243187])"
      ]
     },
     "execution_count": 67,
     "metadata": {},
     "output_type": "execute_result"
    }
   ],
   "source": [
    "tan(anHmat)"
   ]
  },
  {
   "cell_type": "markdown",
   "metadata": {},
   "source": [
    "Pairwise operations with Hmatrices."
   ]
  },
  {
   "cell_type": "code",
   "execution_count": 68,
   "metadata": {
    "collapsed": false
   },
   "outputs": [
    {
     "data": {
      "text/plain": [
       "* (generic function with 149 methods)"
      ]
     },
     "execution_count": 68,
     "metadata": {},
     "output_type": "execute_result"
    }
   ],
   "source": [
    "import Base: .+, .-, .*, ./\n",
    "for op in [:.+, :.-, :.*, :./]\n",
    "        quote\n",
    "                function $op(h::Hmatrix, g::Hmatrix)\n",
    "                        frstcol = $op(h.frstcol, g.frstcol)\n",
    "                        lastcol = $op(h.lastcol, g.lastcol)\n",
    "                        return Hmatrix(frstcol, lastcol)\n",
    "                end\n",
    "        end |> eval\n",
    "end\n",
    "import Base: *\n",
    "function *(mat::Matrix, hmat::Hmatrix)\n",
    "        Hmatrix(mat * hmat.frstcol, mat * hmat.lastcol)\n",
    "end"
   ]
  },
  {
   "cell_type": "markdown",
   "metadata": {},
   "source": [
    "A pre-existing function on matrices which only used the above operations will automatically work on Hmatrices.\n",
    "I encountered this when a new type I had made, just worked on some Runge-Kutta code"
   ]
  },
  {
   "cell_type": "code",
   "execution_count": 69,
   "metadata": {
    "collapsed": false
   },
   "outputs": [
    {
     "data": {
      "text/plain": [
       "2x2 Array{Float64,2}:\n",
       " 1.59398   0.533019\n",
       " 0.957554  2.51565 "
      ]
     },
     "execution_count": 69,
     "metadata": {},
     "output_type": "execute_result"
    }
   ],
   "source": [
    "function expmm(mat)\n",
    "        mat .+ rand(size(mat)) * mat .+ (rand(size(mat)).^2) * mat\n",
    "end\n",
    "expmm(eye(2))"
   ]
  },
  {
   "cell_type": "code",
   "execution_count": 70,
   "metadata": {
    "collapsed": false
   },
   "outputs": [
    {
     "data": {
      "text/plain": [
       "Hmatrix([8.173963163731788,7.865702167344595,8.729008690865706],[24.43114386123764,25.35935879812256,23.7770484574838])"
      ]
     },
     "execution_count": 70,
     "metadata": {},
     "output_type": "execute_result"
    }
   ],
   "source": [
    "expmm(anHmat)"
   ]
  },
  {
   "cell_type": "markdown",
   "metadata": {},
   "source": [
    "I can make indexing work like regular arrays"
   ]
  },
  {
   "cell_type": "code",
   "execution_count": 71,
   "metadata": {
    "collapsed": false
   },
   "outputs": [
    {
     "data": {
      "text/plain": [
       "getindex (generic function with 138 methods)"
      ]
     },
     "execution_count": 71,
     "metadata": {},
     "output_type": "execute_result"
    }
   ],
   "source": [
    "import Base: getindex\n",
    "function getindex(H::Hmatrix, i::Integer, j::Integer)\n",
    "        siz, _ = size(H)\n",
    "        if j == 1\n",
    "                return H.frstcol[i]\n",
    "        elseif j == siz\n",
    "                return H.lastcol[i]\n",
    "        else\n",
    "                return 0.0\n",
    "        end\n",
    "end"
   ]
  },
  {
   "cell_type": "code",
   "execution_count": 72,
   "metadata": {
    "collapsed": false
   },
   "outputs": [
    {
     "data": {
      "text/plain": [
       "Hmatrix([1.0,2.0,3.0],[5.0,6.0,7.0])"
      ]
     },
     "execution_count": 72,
     "metadata": {},
     "output_type": "execute_result"
    }
   ],
   "source": [
    "anHmat"
   ]
  },
  {
   "cell_type": "code",
   "execution_count": 73,
   "metadata": {
    "collapsed": false
   },
   "outputs": [
    {
     "data": {
      "text/plain": [
       "6.0"
      ]
     },
     "execution_count": 73,
     "metadata": {},
     "output_type": "execute_result"
    }
   ],
   "source": [
    "anHmat[2,3]"
   ]
  },
  {
   "cell_type": "markdown",
   "metadata": {},
   "source": [
    "### Putting a custom type in the type tree and inhert behavior\n",
    "\n",
    "Take a look at the source code"
   ]
  },
  {
   "cell_type": "code",
   "execution_count": 74,
   "metadata": {
    "collapsed": false
   },
   "outputs": [
    {
     "data": {
      "text/html": [
       "call(::<b>Type{Symmetric{T,S<:AbstractArray{T,2}}}</b>, A::<b>AbstractArray{T,2}</b>) at <a href=\"https://github.com/JuliaLang/julia/tree/03c072d725b6e2798347d00c9b46a3965edddaf8/base/linalg/symmetric.jl#L8\" target=\"_blank\">linalg/symmetric.jl:8</a>"
      ],
      "text/plain": [
       "call(::Type{Symmetric{T,S<:AbstractArray{T,2}}}, A::AbstractArray{T,2}) at linalg/symmetric.jl:8"
      ]
     },
     "execution_count": 74,
     "metadata": {},
     "output_type": "execute_result"
    }
   ],
   "source": [
    "@which Symmetric(rand(3,3))"
   ]
  },
  {
   "cell_type": "code",
   "execution_count": 75,
   "metadata": {
    "collapsed": true
   },
   "outputs": [],
   "source": [
    "immutable H2matrix{T} <: AbstractMatrix{T}\n",
    "        frstcol ::Vector{T}\n",
    "        lastcol ::Vector{T}\n",
    "end"
   ]
  },
  {
   "cell_type": "markdown",
   "metadata": {},
   "source": [
    "Defines a whole class of types: `H2matrix{Float64}`, `H2matrix{Int64}`, etc\n",
    "These are ancestors of `AbstractMatrix{T}`\n",
    "The fact that they are ancestors of AbstractArrays means that other function will just work.\n",
    "Moreover you can specialize fast methods if your working with `H2matrix{Uint16}`, for example\n",
    "\n",
    "I can make indexing work like regular arrays"
   ]
  },
  {
   "cell_type": "code",
   "execution_count": 76,
   "metadata": {
    "collapsed": false
   },
   "outputs": [
    {
     "data": {
      "text/plain": [
       "getindex (generic function with 139 methods)"
      ]
     },
     "execution_count": 76,
     "metadata": {},
     "output_type": "execute_result"
    }
   ],
   "source": [
    "import Base: getindex, size, length, sum\n",
    "size(h::H2matrix) = (length(h.frstcol), length(h.lastcol))\n",
    "length(h::H2matrix) = length(h.frstcol)^2\n",
    "function getindex{T}(H::H2matrix{T}, i::Integer, j::Integer)\n",
    "        siz, _ = size(H)\n",
    "        if j == 1\n",
    "            return H.frstcol[i]\n",
    "        elseif j == siz\n",
    "            return H.lastcol[i]\n",
    "        else\n",
    "            return convert(T, 0)\n",
    "        end\n",
    "end"
   ]
  },
  {
   "cell_type": "markdown",
   "metadata": {},
   "source": [
    "In the above example, this is an easy way to specialize code based on the element type of H2matrix"
   ]
  },
  {
   "cell_type": "code",
   "execution_count": 77,
   "metadata": {
    "collapsed": false
   },
   "outputs": [
    {
     "data": {
      "text/plain": [
       "sum (generic function with 18 methods)"
      ]
     },
     "execution_count": 77,
     "metadata": {},
     "output_type": "execute_result"
    }
   ],
   "source": [
    "sum(h::H2matrix) = sum(h.frstcol) + sum(h.lastcol)"
   ]
  },
  {
   "cell_type": "markdown",
   "metadata": {},
   "source": [
    "Now stuff \"Just Works\" due to an ancestors of AbstractMatrix{T}"
   ]
  },
  {
   "cell_type": "code",
   "execution_count": 78,
   "metadata": {
    "collapsed": false
   },
   "outputs": [
    {
     "data": {
      "text/plain": [
       "5x5 H2matrix{Float64}:\n",
       " 0.302959  0.0  0.0  0.0  0.107827\n",
       " 0.577481  0.0  0.0  0.0  0.740502\n",
       " 0.157785  0.0  0.0  0.0  0.457961\n",
       " 0.557784  0.0  0.0  0.0  0.856688\n",
       " 0.782605  0.0  0.0  0.0  0.286424"
      ]
     },
     "execution_count": 78,
     "metadata": {},
     "output_type": "execute_result"
    }
   ],
   "source": [
    "anH2 = H2matrix(rand(5), rand(5)) # printing is inherited from AbstractMatrix{T}"
   ]
  },
  {
   "cell_type": "code",
   "execution_count": 79,
   "metadata": {
    "collapsed": false
   },
   "outputs": [
    {
     "data": {
      "text/plain": [
       "3x3 H2matrix{Int64}:\n",
       " 1  0  3\n",
       " 2  0  2\n",
       " 3  0  1"
      ]
     },
     "execution_count": 79,
     "metadata": {},
     "output_type": "execute_result"
    }
   ],
   "source": [
    "anH2 = H2matrix([1,2,3], [3,2,1]) # spcialization for integer"
   ]
  },
  {
   "cell_type": "code",
   "execution_count": 80,
   "metadata": {
    "collapsed": false
   },
   "outputs": [
    {
     "data": {
      "text/plain": [
       "1.3333333333333333"
      ]
     },
     "execution_count": 80,
     "metadata": {},
     "output_type": "execute_result"
    }
   ],
   "source": [
    "mean(anH2)"
   ]
  },
  {
   "cell_type": "markdown",
   "metadata": {},
   "source": [
    "How did this work? Check out the source.\n",
    "\n",
    "```julia\n",
    "@edit mean(anH2)\n",
    "```\n",
    "\n",
    "There is a fallback method for `mean(A::AbstractArray)`` which only uses sum and length.\n",
    "You can see how important it is to be able read look at Julia source\n",
    "This wouldn't be possible if it wasn't both fast and readable at the same time"
   ]
  },
  {
   "cell_type": "code",
   "execution_count": null,
   "metadata": {
    "collapsed": true
   },
   "outputs": [],
   "source": []
  }
 ],
 "metadata": {
  "kernelspec": {
   "display_name": "Julia 0.4.3-pre",
   "language": "julia",
   "name": "julia-0.4"
  },
  "language_info": {
   "file_extension": ".jl",
   "mimetype": "application/julia",
   "name": "julia",
   "version": "0.4.6"
  }
 },
 "nbformat": 4,
 "nbformat_minor": 0
}
